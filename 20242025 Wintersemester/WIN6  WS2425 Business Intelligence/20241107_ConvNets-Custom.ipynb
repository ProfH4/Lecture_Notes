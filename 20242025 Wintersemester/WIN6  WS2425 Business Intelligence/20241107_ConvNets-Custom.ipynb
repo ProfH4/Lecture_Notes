{
 "cells": [
  {
   "cell_type": "markdown",
   "metadata": {},
   "source": [
    "#     Understanding Convolutions by hand vs. TensorFlow \n",
    "### Do you think we can match by hand what TensorFlow yields? You bet!"
   ]
  },
  {
   "cell_type": "markdown",
   "metadata": {},
   "source": [
    "* [1: Purpose](#Code_Objective_1)\n",
    "* [2: Background](#Code_Objective_2)\n",
    "* [3: Import Libraries](#Code_Objective_3)\n",
    "* [4: Get Input Volume](#Code_Objective_4)\n",
    "* [5: Get Filter](#Code_Objective_5)\n",
    "* [6: Zero Pad](#Code_Objective_6)\n",
    "* [7: Set Stride, S](#Code_Objective_7)\n",
    "* [8: Manual conv2d](#Code_Objective_8)\n",
    "* [9: TensorFlow Conv2d](#Code_Objective_9)\n",
    "* [10: Export Results](#Code_Objective_10)\n",
    "* [11: References](#Code_Objective_11)"
   ]
  },
  {
   "cell_type": "markdown",
   "metadata": {},
   "source": [
    "# 1. Purpose<a class=\"anchor\" id=\"Code_Objective_1\"></a>\n",
    "TensorFlow and various other open source libraries for machine learning like Scipy, provide these nice built in functions for performing convolutions. However, as nice as these functions are, it is worth opening the hood to discover the power behind the code. In my opinion, without the convolutional layer, computer vision would be as blind as a bat. So I hope you enjoy this article because we will dig into the convolutions in convolutional layers and see the big picture together."
   ]
  },
  {
   "cell_type": "markdown",
   "metadata": {},
   "source": [
    "# 2. Background<a class=\"anchor\" id=\"Code_Objective_2\"></a>\n",
    "Convolutions are not new with deep learning tasks in computer vision. They are simply a technique used in image processing. In image processing, a convolution operation can be performed between a kernel and an input image. The convolution operation is the process of summing each element of the input image with its local neighbors, weighted by the kernel.[1](#Ref_1)\n",
    "Kernels can come in all shapes and sizes. These kernels make up filters, which are a parameters used in convolutional layers. For this article, I will stick with a common filter based on Edge Detection[1](#Ref_1):"
   ]
  },
  {
   "attachments": {
    "Example_of_edge_detection_kernels.png": {
     "image/png": "[encoded data removed]"
    }
   },
   "cell_type": "markdown",
   "metadata": {},
   "source": [
    "![Example_of_edge_detection_kernels.png](attachment:Example_of_edge_detection_kernels.png)\n",
    "\n",
    "\n",
    "*<center>Example of edge detection kernels[1](#Ref_1)</center>*\n",
    "\n"
   ]
  },
  {
   "cell_type": "markdown",
   "metadata": {},
   "source": [
    "# 3. Import Libraries<a class=\"anchor\" id=\"Code_Objective_3\"></a>"
   ]
  },
  {
   "cell_type": "code",
   "execution_count": 1,
   "metadata": {},
   "outputs": [],
   "source": [
    "import os\n",
    "import numpy as np\n",
    "import cv2\n",
    "import matplotlib.pyplot as plt\n",
    "import pandas as pd\n",
    "from skimage.exposure import rescale_intensity"
   ]
  },
  {
   "cell_type": "markdown",
   "metadata": {},
   "source": [
    "# 4. Get Input Volume<a class=\"anchor\" id=\"Code_Objective_4\"></a>"
   ]
  },
  {
   "cell_type": "code",
   "execution_count": 2,
   "metadata": {},
   "outputs": [],
   "source": [
    "def get_input(use_image=False,random_seed=1,w=5,h=5,d=3):\n",
    "    global x,W,H,D\n",
    "    if use_image==True:\n",
    "        path_image=\"/Users/h4/desktop/image_1.jpg\"\n",
    "        img=cv2.imread(path_image)\n",
    "        RGB_img = cv2.cvtColor(img, cv2.COLOR_BGR2RGB)\n",
    "        gray = cv2.cvtColor(RGB_img, cv2.COLOR_BGR2GRAY)\n",
    "        RGB_img=RGB_img[0:400,0:400,:] #cropped to reindeer for example\n",
    "        display(RGB_img.shape) #display shape\n",
    "        plt.imshow(RGB_img) #show cropped reindeer\n",
    "        W=RGB_img.shape[0] #width of input array\n",
    "        H=RGB_img.shape[1] #height of input array\n",
    "        D=RGB_img.shape[2] #depth of input array\n",
    "        x=RGB_img\n",
    "        display(x[:,:,0]) # show input array channel 0\n",
    "        display(x[:,:,1]) # show input array channel 0\n",
    "        display(x[:,:,2]) # show input array channel 0\n",
    "    else:\n",
    "        # Input Array\n",
    "        W=w #width of input array\n",
    "        H=h #height of input array\n",
    "        D=d #depth of input array\n",
    "        # random x volume for example\n",
    "        np.random.seed(random_seed) #for reproducibility\n",
    "        x=np.random.rand(W,H,D)*4 #up to 4 random numbers \n",
    "        x=x.astype(int)\n",
    "        display(x[:,:,0])\n",
    "        display(x[:,:,1])\n",
    "        display(x[:,:,2])\n",
    "        display(x.shape)"
   ]
  },
  {
   "cell_type": "code",
   "execution_count": 3,
   "metadata": {},
   "outputs": [
    {
     "data": {
      "text/plain": [
       "array([[1, 1, 0, 2, 0],\n",
       "       [2, 0, 3, 3, 0],\n",
       "       [0, 2, 2, 3, 1],\n",
       "       [1, 1, 2, 1, 0],\n",
       "       [0, 1, 2, 2, 0]])"
      ]
     },
     "metadata": {},
     "output_type": "display_data"
    },
    {
     "data": {
      "text/plain": [
       "array([[2, 0, 1, 1, 3],\n",
       "       [1, 0, 1, 3, 0],\n",
       "       [1, 2, 3, 3, 3],\n",
       "       [3, 0, 0, 0, 2],\n",
       "       [1, 0, 2, 3, 3]])"
      ]
     },
     "metadata": {},
     "output_type": "display_data"
    },
    {
     "data": {
      "text/plain": [
       "array([[0, 0, 1, 2, 0],\n",
       "       [2, 3, 2, 0, 3],\n",
       "       [3, 1, 0, 2, 0],\n",
       "       [1, 0, 1, 2, 2],\n",
       "       [2, 2, 3, 0, 1]])"
      ]
     },
     "metadata": {},
     "output_type": "display_data"
    },
    {
     "data": {
      "text/plain": [
       "(5, 5, 3)"
      ]
     },
     "metadata": {},
     "output_type": "display_data"
    }
   ],
   "source": [
    "get_input(False)"
   ]
  },
  {
   "cell_type": "markdown",
   "metadata": {},
   "source": [
    "# 5. Get Filter<a class=\"anchor\" id=\"Code_Objective_5\"></a>\n",
    "**Edge detection kernels**\n",
    "\n",
    "\n",
    "https://en.wikipedia.org/wiki/Kernel_(image_processing)"
   ]
  },
  {
   "cell_type": "code",
   "execution_count": 4,
   "metadata": {},
   "outputs": [],
   "source": [
    "def get_filter():\n",
    "    global w\n",
    "    # Kernel\n",
    "    Wk=3\n",
    "    Hk=3\n",
    "    Dk=3\n",
    "    w=np.zeros(shape=(Wk,Hk,Dk)).astype(int) #initialize 3x3x3 kernel\n",
    "    w[:,:,0]=np.array(([1,0,-1],[0,0,0],[-1,0,1]),dtype='int')\n",
    "    display(w[:,:,0]) # Edge detection\n",
    "    w[:,:,1]=np.array(([0,-1,0],[-1,4,-1],[0,-1,0]),dtype='int')\n",
    "    display(w[:,:,1]) # Edge detection\n",
    "    w[:,:,2]=np.array(([-1,-1,-1],[-1,8,-1],[-1,-1,-1]),dtype='int')\n",
    "    display(w[:,:,2])\n",
    "    display(w.shape)"
   ]
  },
  {
   "cell_type": "code",
   "execution_count": 5,
   "metadata": {},
   "outputs": [
    {
     "data": {
      "text/plain": [
       "array([[ 1,  0, -1],\n",
       "       [ 0,  0,  0],\n",
       "       [-1,  0,  1]])"
      ]
     },
     "metadata": {},
     "output_type": "display_data"
    },
    {
     "data": {
      "text/plain": [
       "array([[ 0, -1,  0],\n",
       "       [-1,  4, -1],\n",
       "       [ 0, -1,  0]])"
      ]
     },
     "metadata": {},
     "output_type": "display_data"
    },
    {
     "data": {
      "text/plain": [
       "array([[-1, -1, -1],\n",
       "       [-1,  8, -1],\n",
       "       [-1, -1, -1]])"
      ]
     },
     "metadata": {},
     "output_type": "display_data"
    },
    {
     "data": {
      "text/plain": [
       "(3, 3, 3)"
      ]
     },
     "metadata": {},
     "output_type": "display_data"
    }
   ],
   "source": [
    "get_filter()"
   ]
  },
  {
   "cell_type": "markdown",
   "metadata": {},
   "source": [
    "# 6. Zero Pad<a class=\"anchor\" id=\"Code_Objective_6\"></a>"
   ]
  },
  {
   "cell_type": "code",
   "execution_count": 6,
   "metadata": {},
   "outputs": [],
   "source": [
    "P=1 #zero padding"
   ]
  },
  {
   "cell_type": "code",
   "execution_count": 7,
   "metadata": {},
   "outputs": [],
   "source": [
    "def padded(A,ref):\n",
    "    results=np.zeros(shape=(ref.shape))\n",
    "    s=(ref.shape[0]-A.shape[0])//2\n",
    "    print(s)\n",
    "    results[s:A.shape[0]+s,s:A.shape[1]+s,:A.shape[2]]=A\n",
    "    return results"
   ]
  },
  {
   "cell_type": "code",
   "execution_count": 8,
   "metadata": {},
   "outputs": [
    {
     "name": "stdout",
     "output_type": "stream",
     "text": [
      "1\n"
     ]
    }
   ],
   "source": [
    "x=padded(x,np.zeros(shape=(x.shape[0]+2*P,x.shape[1]+2*P,x.shape[2])))"
   ]
  },
  {
   "cell_type": "code",
   "execution_count": 9,
   "metadata": {},
   "outputs": [
    {
     "data": {
      "text/plain": [
       "(7, 7)"
      ]
     },
     "execution_count": 9,
     "metadata": {},
     "output_type": "execute_result"
    }
   ],
   "source": [
    "x[:,:,0].shape"
   ]
  },
  {
   "cell_type": "markdown",
   "metadata": {},
   "source": [
    "# 7. Set Stride, S<a class=\"anchor\" id=\"Code_Objective_7\"></a>"
   ]
  },
  {
   "cell_type": "code",
   "execution_count": 10,
   "metadata": {},
   "outputs": [],
   "source": [
    "S=2"
   ]
  },
  {
   "cell_type": "markdown",
   "metadata": {},
   "source": [
    "# 8. Manual conv2d <a class=\"anchor\" id=\"Code_Objective_8\"></a>"
   ]
  },
  {
   "cell_type": "code",
   "execution_count": 11,
   "metadata": {
    "scrolled": false
   },
   "outputs": [],
   "source": [
    "def conv2d_pad_str(x,w0,S=2,b0=np.ones(shape=(1))):\n",
    "    if len(x.shape)>2:\n",
    "        xc=x.shape[2]\n",
    "    else:\n",
    "        xc=1\n",
    "    xl=x.shape[1] #input volume length\n",
    "    xw=x.shape[0] #input volume width\n",
    "    fl=w0.shape[1] #filter length\n",
    "    fw=w0.shape[0] #filter width\n",
    "    ol=(xl-fl)//S+1 #output volume length\n",
    "    ow=(xw-fw)//S+1 #output volume width\n",
    "    if len(x.shape)>2: #\n",
    "        output=np.zeros(shape=(ol,ow,1))\n",
    "        output[:,:,0]=output[:,:,0]+b0\n",
    "    else:\n",
    "        output=np.zeros(shape=(ol,ow))\n",
    "        output[:,:]=output[:,:]+b0\n",
    "\n",
    "    for c in range(0,xc):\n",
    "        cj=0\n",
    "        for j in range(0,xl+S,S):\n",
    "            ci=0\n",
    "            for i in range(0,xw+S,S):\n",
    "                if i>xw-fw: #reached the end of the row, breaks to next row\n",
    "                    break\n",
    "                if j>xl-fl: #reached the end of the column, breaks to next column\n",
    "                    break\n",
    "                if len(x.shape)>2:\n",
    "                    output_ji=np.sum(x[:,:,c][j:j+fl,i:i+fw]*w0[:,:,c])\n",
    "                else:\n",
    "                    output_ji=np.sum(x[:,:][j:j+fl,i:i+fl]*w0[:,:])\n",
    "                if len(x.shape)>2:\n",
    "                    output[cj,ci,0]+=output_ji\n",
    "                else:\n",
    "                    output[cj,ci]+=output_ji\n",
    "                ci+=1\n",
    "            cj+=1\n",
    "    return output"
   ]
  },
  {
   "cell_type": "code",
   "execution_count": 12,
   "metadata": {},
   "outputs": [
    {
     "data": {
      "text/plain": [
       "array([[ 3.,  7.,  4.],\n",
       "       [17., -7.,  1.],\n",
       "       [14., 25., 13.]])"
      ]
     },
     "execution_count": 12,
     "metadata": {},
     "output_type": "execute_result"
    }
   ],
   "source": [
    "bias=np.ones(shape=(1))\n",
    "output=conv2d_pad_str(x,w,S,bias)\n",
    "output[:,:,0]"
   ]
  },
  {
   "cell_type": "code",
   "execution_count": 13,
   "metadata": {},
   "outputs": [],
   "source": [
    "def rescale_int(A):\n",
    "    A= rescale_intensity(A, in_range=(0, 255))\n",
    "    A = (A * 255).astype(\"uint8\")\n",
    "    plt.imshow(A)\n",
    "    display(A)\n",
    "    display(A.shape)"
   ]
  },
  {
   "cell_type": "code",
   "execution_count": 14,
   "metadata": {},
   "outputs": [
    {
     "data": {
      "text/plain": [
       "array([[ 3,  7,  4],\n",
       "       [17,  0,  1],\n",
       "       [14, 25, 13]], dtype=uint8)"
      ]
     },
     "metadata": {},
     "output_type": "display_data"
    },
    {
     "data": {
      "text/plain": [
       "(3, 3)"
      ]
     },
     "metadata": {},
     "output_type": "display_data"
    },
    {
     "data": {
      "image/png": "[encoded data removed]",
      "text/plain": [
       "<Figure size 432x288 with 1 Axes>"
      ]
     },
     "metadata": {
      "needs_background": "light"
     },
     "output_type": "display_data"
    }
   ],
   "source": [
    "rescale_int(output[:,:,0])"
   ]
  },
  {
   "cell_type": "markdown",
   "metadata": {},
   "source": [
    "# 9. TensorFlow Conv2d<a class=\"anchor\" id=\"Code_Objective_9\"></a>"
   ]
  },
  {
   "cell_type": "code",
   "execution_count": 15,
   "metadata": {},
   "outputs": [],
   "source": [
    "def tensorflow_conv(x=x,w=w,bias=bias,S=S):\n",
    "    global tf_output\n",
    "    import tensorflow as tf\n",
    "    x=np.asarray(x).astype(np.float32)\n",
    "    x_tf=tf.constant(np.expand_dims(x,axis=0),dtype=tf.float32)\n",
    "    f_tf=tf.constant(np.expand_dims(w,axis=0),dtype=tf.float32)\n",
    "    x_tf=tf.reshape(x_tf,shape=(1,x.shape[0],x.shape[1],x.shape[2]))\n",
    "    f_tf=tf.reshape(f_tf,shape=(w.shape[0],w.shape[1],w.shape[2],1))\n",
    "    b_tf=tf.constant(bias,dtype=tf.float32)\n",
    "    conv_tf=tf.nn.conv2d(x_tf,f_tf,strides=[1,S,S,1],padding='VALID')\n",
    "    conv_tf=tf.nn.bias_add(conv_tf,b_tf)[0,:,:,0]\n",
    "    tf_output=conv_tf.numpy()\n",
    "    display(tf_output)\n",
    "    display(tf_output.shape)"
   ]
  },
  {
   "cell_type": "code",
   "execution_count": 16,
   "metadata": {},
   "outputs": [
    {
     "data": {
      "text/plain": [
       "array([[  3.,  -9.,   7.,   5.,   4.],\n",
       "       [ 12.,  15.,   5.,  -3.,  11.],\n",
       "       [ 17.,   1.,  -7.,  11.,   1.],\n",
       "       [ 10., -17.,  -6.,  -1.,  15.],\n",
       "       [ 14.,   6.,  25.,   1.,  13.]], dtype=float32)"
      ]
     },
     "metadata": {},
     "output_type": "display_data"
    },
    {
     "data": {
      "text/plain": [
       "(5, 5)"
      ]
     },
     "metadata": {},
     "output_type": "display_data"
    }
   ],
   "source": [
    "tensorflow_conv(S=1)"
   ]
  },
  {
   "cell_type": "code",
   "execution_count": 17,
   "metadata": {},
   "outputs": [
    {
     "data": {
      "text/plain": [
       "array([[ 3,  0,  7,  5,  4],\n",
       "       [12, 15,  5,  0, 11],\n",
       "       [17,  1,  0, 11,  1],\n",
       "       [10,  0,  0,  0, 15],\n",
       "       [14,  6, 25,  1, 13]], dtype=uint8)"
      ]
     },
     "metadata": {},
     "output_type": "display_data"
    },
    {
     "data": {
      "text/plain": [
       "(5, 5)"
      ]
     },
     "metadata": {},
     "output_type": "display_data"
    },
    {
     "data": {
      "image/png": "[encoded data removed]",
      "text/plain": [
       "<Figure size 432x288 with 1 Axes>"
      ]
     },
     "metadata": {
      "needs_background": "light"
     },
     "output_type": "display_data"
    }
   ],
   "source": [
    "rescale_int(tf_output[:,:])"
   ]
  },
  {
   "cell_type": "markdown",
   "metadata": {},
   "source": [
    "# 10. Export Results<a class=\"anchor\" id=\"Code_Objective_10\"></a>"
   ]
  },
  {
   "cell_type": "code",
   "execution_count": 18,
   "metadata": {},
   "outputs": [],
   "source": [
    "writer = pd.ExcelWriter('conv2d_custom.xlsx', engine='xlsxwriter')"
   ]
  },
  {
   "cell_type": "code",
   "execution_count": 19,
   "metadata": {},
   "outputs": [],
   "source": [
    "x_0=pd.DataFrame(x[:,:,0])\n",
    "x_1=pd.DataFrame(x[:,:,1])\n",
    "x_2=pd.DataFrame(x[:,:,2])\n",
    "\n",
    "w_0=pd.DataFrame(w[:,:,0])\n",
    "w_1=pd.DataFrame(w[:,:,1])\n",
    "w_2=pd.DataFrame(w[:,:,2])\n",
    "\n",
    "b_0=pd.DataFrame(bias)\n",
    "\n",
    "o_0=pd.DataFrame(output[:,:,0])"
   ]
  },
  {
   "cell_type": "code",
   "execution_count": 20,
   "metadata": {},
   "outputs": [],
   "source": [
    "x_0.to_excel(writer,sheet_name='x_0',index=False)\n",
    "x_1.to_excel(writer,sheet_name='x_1',index=False)\n",
    "x_2.to_excel(writer,sheet_name='x_2',index=False)\n",
    "\n",
    "w_0.to_excel(writer,sheet_name='w_0',index=False)\n",
    "w_1.to_excel(writer,sheet_name='w_1',index=False)\n",
    "w_2.to_excel(writer,sheet_name='w_2',index=False)\n",
    "b_0.to_excel(writer,sheet_name='b_0',index=False)\n",
    "o_0.to_excel(writer,sheet_name='o_0',index=False)\n",
    "writer.save()"
   ]
  },
  {
   "cell_type": "markdown",
   "metadata": {},
   "source": [
    "# 11. References<a class=\"anchor\" id=\"Code_Objective_11\"></a>\n",
    "1. Kernel (image processing)[https://en.wikipedia.org/wiki/Kernel_(image_processing)] <a class=\"anchor\" id=\"Ref_1\"></a>  \n",
    "\n",
    "2. tf.nn.conv2d [https://www.tensorflow.org/api_docs/python/tf/nn/conv2d] <a class=\"anchor\" id=\"Ref_2\"></a>   \n",
    "\n",
    "3.  Python. a) Travis E. Oliphant. Python for Scientific Computing, Computing in Science & Engineering, 9, 10–20 (2007) b) K. Jarrod Millman and Michael Aivazis. Python for Scientists and Engineers, Computing in Science & Engineering, 13, 9–12 (2011) <a class=\"anchor\" id=\"Ref_3\"></a>    \n",
    "\n",
    "4. TensorFlow.  Martín Abadi, Ashish Agarwal, Paul Barham, Eugene Brevdo, Zhifeng Chen, Craig Citro, Greg S. Corrado, Andy Davis,Jeffrey Dean, Matthieu Devin, Sanjay Ghemawat, Ian Goodfellow, Andrew Harp, Geoffrey Irving, Michael Isard, Rafal Jozefowicz, Yangqing Jia,Lukasz Kaiser, Manjunath Kudlur, Josh Levenberg, Dan Mané, Mike Schuster,Rajat Monga, Sherry Moore, Derek Murray, Chris Olah, Jonathon Shlens,Benoit Steiner, Ilya Sutskever, Kunal Talwar, Paul Tucker,Vincent Vanhoucke, Vijay Vasudevan, Fernanda Viégas,Oriol Vinyals, Pete Warden, Martin Wattenberg, Martin Wicke,Yuan Yu, and Xiaoqiang Zheng.  TensorFlow: Large-scale machine learning on heterogeneous systems, 2015. Software available from tensorflow.org. <a class=\"anchor\" id=\"Ref_4\"></a>   \n",
    "\n",
    "5.  SciPy. Pauli Virtanen, Ralf Gommers, Travis E. Oliphant, Matt Haberland, Tyler Reddy, David Cournapeau, Evgeni Burovski, Pearu Peterson, Warren Weckesser, Jonathan Bright, Stéfan J. van der Walt, Matthew Brett, Joshua Wilson, K. Jarrod Millman, Nikolay Mayorov, Andrew R. J. Nelson, Eric Jones, Robert Kern, Eric Larson, CJ Carey, İlhan Polat, Yu Feng, Eric W. Moore, Jake VanderPlas, Denis Laxalde, Josef Perktold, Robert Cimrman, Ian Henriksen, E.A. Quintero, Charles R Harris, Anne M. Archibald, Antônio H. Ribeiro, Fabian Pedregosa, Paul van Mulbregt, and SciPy 1.0 Contributors. (2019) SciPy 1.0–Fundamental Algorithms for Scientific Computing in Python. preprint arXiv:1907.10121 <a class=\"anchor\" id=\"Ref_5\"></a>   \n",
    "\n",
    "6.  NumPy. a) Travis E. Oliphant. A guide to NumPy, USA: Trelgol Publishing, (2006). b) Stéfan van der Walt, S. Chris Colbert and Gaël Varoquaux. The NumPy Array: A Structure for Efficient Numerical Computation, Computing in Science & Engineering, 13, 22–30 (2011) <a class=\"anchor\" id=\"Ref_6\"></a>   \n",
    "\n",
    "7.  IPython. a) Fernando Pérez and Brian E. Granger. IPython: A System for Interactive Scientific Computing, Computing in Science & Engineering, 9, 21–29 (2007) <a class=\"anchor\" id=\"Ref_7\"></a>   \n",
    "\n",
    "8.  Matplotlib. J. D. Hunter, “Matplotlib: A 2D Graphics Environment”, Computing in Science & Engineering, vol. 9, no. 3, pp. 90–95, 2007. <a class=\"anchor\" id=\"Ref_8\"></a>   \n",
    "\n",
    "9.  Pandas. Wes McKinney. Data Structures for Statistical Computing in Python, Proceedings of the 9th Python in Science Conference, 51–56 (2010) <a class=\"anchor\" id=\"Ref_9\"></a>   \n",
    "\n",
    "10. Scikit-Learn. Fabian Pedregosa, Gaël Varoquaux, Alexandre Gramfort, Vincent Michel, Bertrand Thirion, Olivier Grisel, Mathieu Blondel, Peter Prettenhofer, Ron Weiss, Vincent Dubourg, Jake Vanderplas, Alexandre Passos, David Cournapeau, Matthieu Brucher, Matthieu Perrot, Édouard Duchesnay. Scikit-learn: Machine Learning in Python, Journal of Machine Learning Research, 12, 2825–2830 (2011) <a class=\"anchor\" id=\"Ref_10\"></a>   \n",
    "\n",
    "11.  Scikit-Image. Stéfan van der Walt, Johannes L. Schönberger, Juan Nunez-Iglesias, François Boulogne, Joshua D. Warner, Neil Yager, Emmanuelle Gouillart, Tony Yu and the scikit-image contributors. scikit-image: Image processing in Python, PeerJ 2:e453 (2014) <a class=\"anchor\" id=\"Ref_11\"></a> "
   ]
  },
  {
   "cell_type": "code",
   "execution_count": null,
   "metadata": {},
   "outputs": [],
   "source": []
  }
 ],
 "metadata": {
  "kernelspec": {
   "display_name": "Python 3 (ipykernel)",
   "language": "python",
   "name": "python3"
  },
  "language_info": {
   "codemirror_mode": {
    "name": "ipython",
    "version": 3
   },
   "file_extension": ".py",
   "mimetype": "text/x-python",
   "name": "python",
   "nbconvert_exporter": "python",
   "pygments_lexer": "ipython3",
   "version": "3.9.12"
  }
 },
 "nbformat": 4,
 "nbformat_minor": 4
}
